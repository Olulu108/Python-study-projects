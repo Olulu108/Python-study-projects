{
  "cells": [
    {
      "cell_type": "code",
      "execution_count": 1,
      "metadata": {
        "ExecuteTime": {
          "end_time": "2024-02-13T12:05:25.732492Z",
          "start_time": "2024-02-13T12:05:25.725236Z"
        },
        "id": "L4hhUpgFl9Q1"
      },
      "outputs": [],
      "source": [
        "paris_city = {\"name\": \"Paris\",\n",
        "              \"total_population\": 2102650,\n",
        "              \"continent\": \"Europe\",\n",
        "              \"location\": [48.8566, 2.3522],\n",
        "              \"area\": {\n",
        "                  \"prefecture_level\": 105.4\n",
        "              }}"
      ]
    },
    {
      "cell_type": "code",
      "source": [
        "paris_city"
      ],
      "metadata": {
        "id": "66tjEuQ3X4V2",
        "colab": {
          "base_uri": "https://localhost:8080/"
        },
        "outputId": "ed35ddd5-67ae-4002-e909-aa005b07f27c"
      },
      "execution_count": 2,
      "outputs": [
        {
          "output_type": "execute_result",
          "data": {
            "text/plain": [
              "{'name': 'Paris',\n",
              " 'total_population': 2102650,\n",
              " 'continent': 'Europe',\n",
              " 'location': [48.8566, 2.3522],\n",
              " 'area': {'prefecture_level': 105.4}}"
            ]
          },
          "metadata": {},
          "execution_count": 2
        }
      ]
    },
    {
      "cell_type": "markdown",
      "metadata": {
        "id": "x6Xa65XVAw_4"
      },
      "source": [
        "Data type of the value of `location`, `area`\n"
      ]
    },
    {
      "cell_type": "code",
      "execution_count": 3,
      "metadata": {
        "ExecuteTime": {
          "end_time": "2024-02-13T12:06:24.177504Z",
          "start_time": "2024-02-13T12:06:24.168783Z"
        },
        "id": "GE7GFCX4EIkX",
        "colab": {
          "base_uri": "https://localhost:8080/"
        },
        "outputId": "01bc476e-9561-41eb-b11a-0eedaeedbb6a"
      },
      "outputs": [
        {
          "output_type": "stream",
          "name": "stdout",
          "text": [
            "<class 'list'>\n",
            "<class 'dict'>\n"
          ]
        }
      ],
      "source": [
        "print(type(paris_city['location']))\n",
        "print(type(paris_city['area']))"
      ]
    },
    {
      "cell_type": "markdown",
      "metadata": {
        "id": "MB_gFP1re-tv"
      },
      "source": [
        "create the function\n"
      ]
    },
    {
      "cell_type": "code",
      "execution_count": 5,
      "metadata": {
        "ExecuteTime": {
          "end_time": "2024-02-13T15:25:12.742813Z",
          "start_time": "2024-02-13T15:25:12.732077Z"
        },
        "id": "Rgqzj8y8FYjU",
        "colab": {
          "base_uri": "https://localhost:8080/"
        },
        "outputId": "9ea8cab5-bcdb-4879-e433-5197d195da13"
      },
      "outputs": [
        {
          "output_type": "execute_result",
          "data": {
            "text/plain": [
              "[48.8566, 2.3522]"
            ]
          },
          "metadata": {},
          "execution_count": 5
        }
      ],
      "source": [
        "def get_key_value_from_city(city, key):\n",
        "  # define a default output (if the key does NOT exist for the selected city)\n",
        "  output = \"not defined\"\n",
        "\n",
        "  # define what the function should output if the key DOES exist for the selected city\n",
        "  if key in city.keys():\n",
        "    output = city[key]\n",
        "  # return the output\n",
        "  return output\n",
        "\n",
        "# test the function\n",
        "get_key_value_from_city (paris_city,\"location\")"
      ]
    },
    {
      "cell_type": "markdown",
      "metadata": {
        "id": "2BSHTaHyBB9g"
      },
      "source": [
        "load data"
      ]
    },
    {
      "cell_type": "code",
      "execution_count": 6,
      "metadata": {
        "ExecuteTime": {
          "end_time": "2024-02-13T17:01:09.847504Z",
          "start_time": "2024-02-13T17:01:09.835341Z"
        },
        "id": "0bj29sWQH7Vw"
      },
      "outputs": [],
      "source": [
        "cities = [\n",
        "    {\n",
        "        \"name\": \"Paris\",\n",
        "        \"total_population\": 2102650,\n",
        "        \"continent\": \"Europe\",\n",
        "        \"location\": [48.8566, 2.3522],\n",
        "        \"area\": {\n",
        "            \"prefecture_level\": 105.4\n",
        "        }\n",
        "    },\n",
        "    {\n",
        "        \"name\": \"Xi’an\",\n",
        "        \"total_population\": 12328000,\n",
        "        \"continent\": \"Asia\",\n",
        "        \"location\": [34.2667, 108.9000],\n",
        "        \"area\": {\n",
        "            \"prefecture_level\": 10762\n",
        "        }\n",
        "    },\n",
        "    {\n",
        "        \"name\": \"Chengdu\",\n",
        "        \"total_population\": 14645000,\n",
        "        \"continent\": \"Asia\",\n",
        "        \"location\": [30.6600, 104.0633],\n",
        "        \"area\": {\n",
        "            \"prefecture_level\": 14378\n",
        "        }\n",
        "    },\n",
        "    {\n",
        "        \"name\": \"Los Angeles\",\n",
        "        \"total_population\": 12121244,\n",
        "        \"continent\": \"North America\",\n",
        "        \"location\": [34.1141, -118.4068],\n",
        "        \"area\": {\n",
        "            \"prefecture_level\": 1299\n",
        "        }\n",
        "    },\n",
        "    {\n",
        "        \"name\": \"Brooklyn\",\n",
        "        \"total_population\": 2736074,\n",
        "        \"continent\": \"North America\",\n",
        "        \"location\": [40.6501, -73.9496],\n",
        "        \"area\": {\n",
        "            \"prefecture_level\": 180\n",
        "        }\n",
        "    }\n",
        "]"
      ]
    },
    {
      "cell_type": "code",
      "execution_count": 7,
      "metadata": {
        "ExecuteTime": {
          "end_time": "2024-02-13T13:11:20.949462Z",
          "start_time": "2024-02-13T13:11:20.937614Z"
        },
        "id": "J5gkqrixBHuD",
        "colab": {
          "base_uri": "https://localhost:8080/"
        },
        "outputId": "51beefd1-3427-44d0-b0c2-79fd682033d9"
      },
      "outputs": [
        {
          "output_type": "execute_result",
          "data": {
            "text/plain": [
              "5"
            ]
          },
          "metadata": {},
          "execution_count": 7
        }
      ],
      "source": [
        "\n",
        "len(cities)"
      ]
    },
    {
      "cell_type": "markdown",
      "metadata": {
        "id": "khUbLMYTL-CN"
      },
      "source": [
        "Create a new function that will take two arguments: a `city_name` and a `key`."
      ]
    },
    {
      "cell_type": "code",
      "execution_count": 8,
      "metadata": {
        "ExecuteTime": {
          "end_time": "2024-02-13T17:01:13.576168Z",
          "start_time": "2024-02-13T17:01:13.563599Z"
        },
        "id": "Xzd3iPOoMSzQ",
        "colab": {
          "base_uri": "https://localhost:8080/",
          "height": 35
        },
        "outputId": "19ed324e-e234-45b3-8bd9-f66d263ea0b2"
      },
      "outputs": [
        {
          "output_type": "execute_result",
          "data": {
            "text/plain": [
              "'North America'"
            ],
            "application/vnd.google.colaboratory.intrinsic+json": {
              "type": "string"
            }
          },
          "metadata": {},
          "execution_count": 8
        }
      ],
      "source": [
        "def retrieve_city_key_value_database(cities,city_name, key):\n",
        "\n",
        "  # set default output\n",
        "    output = \"city doesn't exist or is not covered\"\n",
        "\n",
        "\n",
        "    # Iterate through the list of cities\n",
        "    for city in cities:\n",
        "        # If the current city's name matches the target city name\n",
        "        if city[\"name\"] == city_name:\n",
        "            # Check if the target key is present in the current city's data\n",
        "            if key in city:\n",
        "                # If found, assign the value associated with the key to the output variable\n",
        "                output = city[key]\n",
        "\n",
        "    # Return the output, which will either be the retrieved value or the default message\n",
        "    return output\n",
        "\n",
        "\n",
        "# test the function with examples\n",
        "retrieve_city_key_value_database(cities,\"Los Angeles\",\"continent\")\n"
      ]
    },
    {
      "cell_type": "markdown",
      "metadata": {
        "id": "8RKP69p-FrXb"
      },
      "source": [
        "Calculate the distance between two locations\n"
      ]
    },
    {
      "cell_type": "code",
      "execution_count": 9,
      "metadata": {
        "ExecuteTime": {
          "end_time": "2024-02-13T16:51:02.878914Z",
          "start_time": "2024-02-13T16:51:00.886496Z"
        },
        "id": "d9Y-n4mUlL2Q",
        "colab": {
          "base_uri": "https://localhost:8080/"
        },
        "outputId": "f67667a7-c119-4b48-b1bd-38a1ba1e4940"
      },
      "outputs": [
        {
          "output_type": "stream",
          "name": "stdout",
          "text": [
            "Requirement already satisfied: geopy in /usr/local/lib/python3.11/dist-packages (2.4.1)\n",
            "Requirement already satisfied: geographiclib<3,>=1.52 in /usr/local/lib/python3.11/dist-packages (from geopy) (2.0)\n"
          ]
        }
      ],
      "source": [
        "!pip install geopy\n",
        "from geopy import distance"
      ]
    },
    {
      "cell_type": "code",
      "execution_count": 10,
      "metadata": {
        "ExecuteTime": {
          "end_time": "2024-02-13T16:51:02.884463Z",
          "start_time": "2024-02-13T16:51:02.881122Z"
        },
        "id": "KwgQBpZcXWux",
        "colab": {
          "base_uri": "https://localhost:8080/"
        },
        "outputId": "cda838de-68d3-4bb6-d043-e93a17f17a7a"
      },
      "outputs": [
        {
          "output_type": "stream",
          "name": "stdout",
          "text": [
            "866.4554329098685\n"
          ]
        }
      ],
      "source": [
        "newport_ri = [41.49008, -71.312796]\n",
        "cleveland_oh = [41.499498, -81.695391]\n",
        "\n",
        "print(distance.distance(newport_ri, cleveland_oh).km)\n"
      ]
    },
    {
      "cell_type": "markdown",
      "metadata": {
        "id": "jAqwumfvG97A"
      },
      "source": [
        "Data type"
      ]
    },
    {
      "cell_type": "code",
      "execution_count": 12,
      "metadata": {
        "ExecuteTime": {
          "end_time": "2024-02-13T16:52:26.290763Z",
          "start_time": "2024-02-13T16:52:26.265873Z"
        },
        "id": "AneA6YqQHXrF",
        "colab": {
          "base_uri": "https://localhost:8080/",
          "height": 187
        },
        "outputId": "94f27cdf-ffae-410f-9bd2-f5c254e3c5c0"
      },
      "outputs": [
        {
          "output_type": "execute_result",
          "data": {
            "text/plain": [
              "geopy.distance.geodesic"
            ],
            "text/html": [
              "<div style=\"max-width:800px; border: 1px solid var(--colab-border-color);\"><style>\n",
              "      pre.function-repr-contents {\n",
              "        overflow-x: auto;\n",
              "        padding: 8px 12px;\n",
              "        max-height: 500px;\n",
              "      }\n",
              "\n",
              "      pre.function-repr-contents.function-repr-contents-collapsed {\n",
              "        cursor: pointer;\n",
              "        max-height: 100px;\n",
              "      }\n",
              "    </style>\n",
              "    <pre style=\"white-space: initial; background:\n",
              "         var(--colab-secondary-surface-color); padding: 8px 12px;\n",
              "         border-bottom: 1px solid var(--colab-border-color);\"><b>geopy.distance.geodesic</b><br/>def __init__(*args, **kwargs)</pre><pre class=\"function-repr-contents function-repr-contents-collapsed\" style=\"\"><a class=\"filepath\" style=\"display:none\" href=\"#\">/usr/local/lib/python3.11/dist-packages/geopy/distance.py</a>Calculate the geodesic distance between points.\n",
              "\n",
              "Set which ellipsoidal model of the earth to use by specifying an\n",
              "``ellipsoid`` keyword argument. The default is &#x27;WGS-84&#x27;, which is the\n",
              "most globally accurate model.  If ``ellipsoid`` is a string, it is\n",
              "looked up in the `ELLIPSOIDS` dictionary to obtain the major and minor\n",
              "semiaxes and the flattening. Otherwise, it should be a tuple with those\n",
              "values.  See the comments above the `ELLIPSOIDS` dictionary for\n",
              "more information.\n",
              "\n",
              "Example::\n",
              "\n",
              "    &gt;&gt;&gt; from geopy.distance import geodesic\n",
              "    &gt;&gt;&gt; newport_ri = (41.49008, -71.312796)\n",
              "    &gt;&gt;&gt; cleveland_oh = (41.499498, -81.695391)\n",
              "    &gt;&gt;&gt; print(geodesic(newport_ri, cleveland_oh).miles)\n",
              "    538.390445368</pre>\n",
              "      <script>\n",
              "      if (google.colab.kernel.accessAllowed && google.colab.files && google.colab.files.view) {\n",
              "        for (const element of document.querySelectorAll('.filepath')) {\n",
              "          element.style.display = 'block'\n",
              "          element.onclick = (event) => {\n",
              "            event.preventDefault();\n",
              "            event.stopPropagation();\n",
              "            google.colab.files.view(element.textContent, 512);\n",
              "          };\n",
              "        }\n",
              "      }\n",
              "      for (const element of document.querySelectorAll('.function-repr-contents')) {\n",
              "        element.onclick = (event) => {\n",
              "          event.preventDefault();\n",
              "          event.stopPropagation();\n",
              "          element.classList.toggle('function-repr-contents-collapsed');\n",
              "        };\n",
              "      }\n",
              "      </script>\n",
              "      </div>"
            ]
          },
          "metadata": {},
          "execution_count": 12
        }
      ],
      "source": [
        "type (distance.distance(newport_ri, cleveland_oh))"
      ]
    },
    {
      "cell_type": "markdown",
      "metadata": {
        "id": "pk29PbbTO63S"
      },
      "source": [
        "Create a function `get_cities_nearby` that takes `customer_location` and `radius` and returns a `list of cities` located near the provided customer_location"
      ]
    },
    {
      "cell_type": "markdown",
      "metadata": {
        "id": "Lk7-sNiCIyWA"
      },
      "source": [
        "Use the city of Guangyan in China (coordinates [32.4355, 105.8436]) and a radius of 500km to test your function."
      ]
    },
    {
      "cell_type": "code",
      "execution_count": null,
      "metadata": {
        "ExecuteTime": {
          "end_time": "2024-02-13T17:09:40.187832Z",
          "start_time": "2024-02-13T17:09:40.172012Z"
        },
        "id": "Gt9JDf46PRqb",
        "colab": {
          "base_uri": "https://localhost:8080/"
        },
        "outputId": "ae1a5e1a-7ab4-4027-bd93-cdf2a3c996fa"
      },
      "outputs": [
        {
          "output_type": "execute_result",
          "data": {
            "text/plain": [
              "['Xi’an', 'Chengdu']"
            ]
          },
          "metadata": {},
          "execution_count": 10
        }
      ],
      "source": [
        "def get_cities_nearby (customer_location, radius ):\n",
        "\n",
        "  nearby_cities = []\n",
        "\n",
        "  for city in cities:\n",
        "     if distance.distance(customer_location,city['location']).km <= radius :\n",
        "      nearby_cities.append(city[\"name\"])\n",
        "\n",
        "  return nearby_cities\n",
        "\n",
        "get_cities_nearby ([32.4355, 105.8436], 500)\n"
      ]
    }
  ],
  "metadata": {
    "colab": {
      "provenance": []
    },
    "kernelspec": {
      "display_name": "Python 3 (ipykernel)",
      "language": "python",
      "name": "python3"
    },
    "language_info": {
      "codemirror_mode": {
        "name": "ipython",
        "version": 3
      },
      "file_extension": ".py",
      "mimetype": "text/x-python",
      "name": "python",
      "nbconvert_exporter": "python",
      "pygments_lexer": "ipython3",
      "version": "3.10.6"
    },
    "toc": {
      "base_numbering": 1,
      "nav_menu": {},
      "number_sections": true,
      "sideBar": true,
      "skip_h1_title": false,
      "title_cell": "Table of Contents",
      "title_sidebar": "Contents",
      "toc_cell": false,
      "toc_position": {},
      "toc_section_display": true,
      "toc_window_display": false
    }
  },
  "nbformat": 4,
  "nbformat_minor": 0
}